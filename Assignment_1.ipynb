{
 "cells": [
  {
   "cell_type": "markdown",
   "id": "63ee8bdd",
   "metadata": {},
   "source": [
    "# 1. In the below elements which of them are values or an expression? eg:- values can be\n",
    "integer or string and expressions will be mathematical operators. * 'hello' -87.8 - / + 6"
   ]
  },
  {
   "cell_type": "markdown",
   "id": "e55e8f16",
   "metadata": {},
   "source": [
    "Solution:-*-Expression 'hello' -value -87.8 -value / -expression\n",
    "\n",
    "-expression\n",
    "-expression 6 -value"
   ]
  },
  {
   "cell_type": "markdown",
   "id": "cdf1d36c",
   "metadata": {},
   "source": [
    "# 2. What is the difference between string and variable?"
   ]
  },
  {
   "cell_type": "markdown",
   "id": "4c9a82cf",
   "metadata": {},
   "source": [
    "variable- is used to allocate some information in memory, string -is used to store what type of information needed"
   ]
  },
  {
   "cell_type": "markdown",
   "id": "e1b63195",
   "metadata": {},
   "source": [
    "# 3. Describe three different data types."
   ]
  },
  {
   "cell_type": "markdown",
   "id": "c7ad5e53",
   "metadata": {},
   "source": [
    "1.Integers – This value is represented by int class. It can store positive or negative whole numbers without any fractions or decimals.\n",
    "\n",
    "2.Float – This value is represented by float class. It is a real number with floating point representation like decimal\n",
    "\n",
    "3.Complex Numbers – Complex number is represented by complex class. For example – 2+3j one part complex and other have imaginary\n",
    "\n"
   ]
  },
  {
   "cell_type": "markdown",
   "id": "9aa5e9e6",
   "metadata": {},
   "source": [
    "# 4. What is an expression made up of? What do all expressions do?"
   ]
  },
  {
   "cell_type": "markdown",
   "id": "14065d46",
   "metadata": {},
   "source": [
    "Expression are made up of mixture of operators,variable and methods. \n",
    "The work of expressions are to evaluate or calculate the method and forward to next step"
   ]
  },
  {
   "cell_type": "markdown",
   "id": "ff7ff313",
   "metadata": {},
   "source": [
    "# 5. This assignment statements, like spam = 10. What is the difference between an expression and a statement?"
   ]
  },
  {
   "cell_type": "markdown",
   "id": "9f0e9258",
   "metadata": {},
   "source": [
    "When there is a expression the interpreter will evaluate it while coming to statement the interpreter doesn't do anything"
   ]
  },
  {
   "cell_type": "markdown",
   "id": "ccb58e59",
   "metadata": {},
   "source": [
    "# 6. After running the following code, what does the variable bacon contain?\n",
    "bacon = 22 bacon + 1\n",
    "\n"
   ]
  },
  {
   "cell_type": "code",
   "execution_count": 1,
   "id": "8b3930af",
   "metadata": {},
   "outputs": [
    {
     "data": {
      "text/plain": [
       "23"
      ]
     },
     "execution_count": 1,
     "metadata": {},
     "output_type": "execute_result"
    }
   ],
   "source": [
    "bacon = 22\n",
    "bacon + 1"
   ]
  },
  {
   "cell_type": "markdown",
   "id": "829c56b0",
   "metadata": {},
   "source": [
    "# 7. What should the values of the following two terms be?\n",
    "'spam' + 'spamspam' 'spam' * 3"
   ]
  },
  {
   "cell_type": "code",
   "execution_count": 2,
   "id": "0f17a2f5",
   "metadata": {},
   "outputs": [
    {
     "data": {
      "text/plain": [
       "'spamspamspam'"
      ]
     },
     "execution_count": 2,
     "metadata": {},
     "output_type": "execute_result"
    }
   ],
   "source": [
    "'spam' + 'spamspam' \n",
    "'spam' * 3"
   ]
  },
  {
   "cell_type": "markdown",
   "id": "5f37a6d2",
   "metadata": {},
   "source": [
    "'spam' + 'spamspam' = spamspamspam 'spam' * 3 = spamspamspam"
   ]
  },
  {
   "cell_type": "markdown",
   "id": "4451305b",
   "metadata": {},
   "source": [
    "# 8. Why is eggs a valid variable name while 100 is invalid?\n"
   ]
  },
  {
   "cell_type": "markdown",
   "id": "d54ed5bb",
   "metadata": {},
   "source": [
    "because variable should be start with Uppercase or lowercase aplhabet and some special characters (_) not with numbers,so egg is valid meanwhile 100"
   ]
  },
  {
   "cell_type": "markdown",
   "id": "068bcb5b",
   "metadata": {},
   "source": [
    "# 9. What three functions can be used to get the integer, floating-point number, or string version of a value?"
   ]
  },
  {
   "cell_type": "markdown",
   "id": "de9848a8",
   "metadata": {},
   "source": [
    "int() , float() and str( )"
   ]
  },
  {
   "cell_type": "markdown",
   "id": "e2714d79",
   "metadata": {},
   "source": [
    "# 10. Why does this expression cause an error? How can you fix it?\n",
    "'I have eaten ' + 99 + ' burritos.'"
   ]
  },
  {
   "cell_type": "markdown",
   "id": "954befc5",
   "metadata": {},
   "source": [
    "The above expession is caused error because in python we can concatenate str to str not str to int.str (not \"int\") to str We can fix it by 'I have eaten ' + str('99') + ' burritos.'"
   ]
  },
  {
   "cell_type": "code",
   "execution_count": 4,
   "id": "4ba1cf10",
   "metadata": {},
   "outputs": [
    {
     "data": {
      "text/plain": [
       "'I have eaten 99 burritos.'"
      ]
     },
     "execution_count": 4,
     "metadata": {},
     "output_type": "execute_result"
    }
   ],
   "source": [
    "'I have eaten ' + str('99') + ' burritos.'"
   ]
  },
  {
   "cell_type": "code",
   "execution_count": null,
   "id": "f18f3ea2",
   "metadata": {},
   "outputs": [],
   "source": []
  }
 ],
 "metadata": {
  "kernelspec": {
   "display_name": "Python 3 (ipykernel)",
   "language": "python",
   "name": "python3"
  },
  "language_info": {
   "codemirror_mode": {
    "name": "ipython",
    "version": 3
   },
   "file_extension": ".py",
   "mimetype": "text/x-python",
   "name": "python",
   "nbconvert_exporter": "python",
   "pygments_lexer": "ipython3",
   "version": "3.9.13"
  }
 },
 "nbformat": 4,
 "nbformat_minor": 5
}
